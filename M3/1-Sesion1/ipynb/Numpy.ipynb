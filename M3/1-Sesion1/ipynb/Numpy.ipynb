{
  "nbformat": 4,
  "nbformat_minor": 0,
  "metadata": {
    "colab": {
      "provenance": []
    },
    "kernelspec": {
      "name": "python3",
      "display_name": "Python 3"
    },
    "language_info": {
      "name": "python"
    }
  },
  "cells": [
    {
      "cell_type": "code",
      "execution_count": 4,
      "metadata": {
        "colab": {
          "base_uri": "https://localhost:8080/"
        },
        "id": "zIBgrrchjcDR",
        "outputId": "9ad3d9db-cb41-4cdd-8f77-dd7dcce69453"
      },
      "outputs": [
        {
          "output_type": "stream",
          "name": "stdout",
          "text": [
            "Suma: [11 22 33 44 55]\n",
            "Producto: [ 10  40  90 160 250]\n",
            "Promedio de a: 3.0\n"
          ]
        }
      ],
      "source": [
        "import numpy as np\n",
        "\n",
        "# Crear arrays\n",
        "a = np.array([1, 2, 3, 4, 5])\n",
        "b = np.array([10, 20, 30, 40, 50])\n",
        "\n",
        "# Operaciones básicas\n",
        "suma = a + b\n",
        "producto = a * b\n",
        "promedio = np.mean(a)\n",
        "\n",
        "print(\"Suma:\", suma)\n",
        "print(\"Producto:\", producto)\n",
        "print(\"Promedio de a:\", promedio)\n"
      ]
    }
  ]
}