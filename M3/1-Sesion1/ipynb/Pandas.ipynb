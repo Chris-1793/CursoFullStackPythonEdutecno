{
  "nbformat": 4,
  "nbformat_minor": 0,
  "metadata": {
    "colab": {
      "provenance": []
    },
    "kernelspec": {
      "name": "python3",
      "display_name": "Python 3"
    },
    "language_info": {
      "name": "python"
    }
  },
  "cells": [
    {
      "cell_type": "code",
      "execution_count": 6,
      "metadata": {
        "colab": {
          "base_uri": "https://localhost:8080/"
        },
        "id": "zIBgrrchjcDR",
        "outputId": "520636d5-c194-438f-8b05-520976ea9d67"
      },
      "outputs": [
        {
          "output_type": "stream",
          "name": "stdout",
          "text": [
            "DataFrame original:\n",
            "  Nombre  Edad       Ciudad\n",
            "0    Ana    23     Santiago\n",
            "1   Luis    30   Valparaíso\n",
            "2  Pedro    25  Antofagasta\n",
            "\n",
            "Datos filtrados (Edad > 25):\n",
            "  Nombre  Edad      Ciudad\n",
            "1   Luis    30  Valparaíso\n"
          ]
        }
      ],
      "source": [
        "import pandas as pd\n",
        "\n",
        "# Crear un DataFrame\n",
        "data = pd.DataFrame({\n",
        "    'Nombre': ['Ana', 'Luis', 'Pedro'],\n",
        "    'Edad': [23, 30, 25],\n",
        "    'Ciudad': ['Santiago', 'Valparaíso', 'Antofagasta']\n",
        "})\n",
        "\n",
        "# Mostrar el DataFrame\n",
        "print(\"DataFrame original:\")\n",
        "print(data)\n",
        "\n",
        "# Filtrar datos\n",
        "filtered_data = data[data['Edad'] > 25]\n",
        "print(\"\\nDatos filtrados (Edad > 25):\")\n",
        "print(filtered_data)\n"
      ]
    }
  ]
}