{
  "nbformat": 4,
  "nbformat_minor": 0,
  "metadata": {
    "colab": {
      "provenance": []
    },
    "kernelspec": {
      "name": "python3",
      "display_name": "Python 3"
    },
    "language_info": {
      "name": "python"
    }
  },
  "cells": [
    {
      "cell_type": "code",
      "execution_count": 7,
      "metadata": {
        "colab": {
          "base_uri": "https://localhost:8080/"
        },
        "id": "zIBgrrchjcDR",
        "outputId": "19b4b408-cf43-4212-adb0-d85d164f34ad"
      },
      "outputs": [
        {
          "output_type": "stream",
          "name": "stdout",
          "text": [
            "Resultado de la suma: 499999500000\n",
            "Tiempo de ejecución: 0.7756900787353516\n"
          ]
        }
      ],
      "source": [
        "from numba import jit\n",
        "import numpy as np\n",
        "import time\n",
        "\n",
        "# Función para optimizar\n",
        "@jit(nopython=True)\n",
        "def suma_array(array):\n",
        "    total = 0\n",
        "    for i in range(len(array)):\n",
        "        total += array[i]\n",
        "    return total\n",
        "\n",
        "# Crear un array grande\n",
        "arr = np.arange(1000000)\n",
        "\n",
        "# Medir el tiempo de ejecución\n",
        "start = time.time()\n",
        "result = suma_array(arr)\n",
        "end = time.time()\n",
        "\n",
        "print(\"Resultado de la suma:\", result)\n",
        "print(\"Tiempo de ejecución:\", end - start)\n"
      ]
    }
  ]
}