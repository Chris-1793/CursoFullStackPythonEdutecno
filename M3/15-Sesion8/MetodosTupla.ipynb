{
  "nbformat": 4,
  "nbformat_minor": 0,
  "metadata": {
    "colab": {
      "provenance": []
    },
    "kernelspec": {
      "name": "python3",
      "display_name": "Python 3"
    },
    "language_info": {
      "name": "python"
    }
  },
  "cells": [
    {
      "cell_type": "markdown",
      "source": [
        "# **Métodos para Tuplas**"
      ],
      "metadata": {
        "id": "J6QlPy6upAoh"
      }
    },
    {
      "cell_type": "code",
      "execution_count": 1,
      "metadata": {
        "colab": {
          "base_uri": "https://localhost:8080/"
        },
        "id": "FLHXYUzwmGl_",
        "outputId": "fc6604a3-5f1f-493a-b186-1218b1650168"
      },
      "outputs": [
        {
          "output_type": "stream",
          "name": "stdout",
          "text": [
            "1\n"
          ]
        }
      ],
      "source": [
        "tupla = (1, 2, 3, 4, 5)\n",
        "print(tupla.count(2))"
      ]
    },
    {
      "cell_type": "code",
      "source": [
        "# 1. count()\n",
        "# El método count() devuelve la cantidad de veces que un valor específico aparece en la tupla.\n",
        "# Ejemplo:\n",
        "t = (1, 2, 3, 2, 2)\n",
        "print(t.count(2))  # Output: 3"
      ],
      "metadata": {
        "colab": {
          "base_uri": "https://localhost:8080/"
        },
        "id": "PiA0dXgopOLO",
        "outputId": "0273193d-88b1-4a32-fa2d-c78c7479cac0"
      },
      "execution_count": 2,
      "outputs": [
        {
          "output_type": "stream",
          "name": "stdout",
          "text": [
            "3\n"
          ]
        }
      ]
    },
    {
      "cell_type": "code",
      "source": [
        "# 2. index()\n",
        "# El método index() devuelve el índice de la primera aparición de un valor en la tupla.\n",
        "# Si el valor no existe, lanzará un error ValueError.\n",
        "# Ejemplo:\n",
        "t = (1, 2, 3)\n",
        "print(t.index(1))  # Output: 1"
      ],
      "metadata": {
        "colab": {
          "base_uri": "https://localhost:8080/"
        },
        "id": "kJgxSyY5pQ8d",
        "outputId": "6b435e9d-6af0-4e34-a7f6-96c421b3dea7"
      },
      "execution_count": 3,
      "outputs": [
        {
          "output_type": "stream",
          "name": "stdout",
          "text": [
            "0\n"
          ]
        }
      ]
    },
    {
      "cell_type": "code",
      "source": [
        "# Convertir tupla a lista, modificar y volver a tupla\n",
        "t = (1, 2, 3)\n",
        "t_list = list(t)  # Convertir a lista\n",
        "t_list[0] = 10    # Modificar la lista\n",
        "t = tuple(t_list) # Convertir de nuevo a tupla\n",
        "print(t)          # Output: (10, 2, 3)"
      ],
      "metadata": {
        "colab": {
          "base_uri": "https://localhost:8080/"
        },
        "id": "ZJnjyvLwpSF2",
        "outputId": "42283f40-c552-4c77-e5c9-3a72208c4e89"
      },
      "execution_count": 4,
      "outputs": [
        {
          "output_type": "stream",
          "name": "stdout",
          "text": [
            "(10, 2, 3)\n"
          ]
        }
      ]
    },
    {
      "cell_type": "code",
      "source": [
        "# Concatenación de tuplas\n",
        "# Puedes concatenar dos o más tuplas para formar una nueva tupla.\n",
        "t1 = (1, 2, 3)\n",
        "t2 = (4, 5, 6)\n",
        "t3 = t1 + t2  # Nueva tupla\n",
        "print(t3)     # Output: (1, 2, 3, 4, 5, 6)"
      ],
      "metadata": {
        "colab": {
          "base_uri": "https://localhost:8080/"
        },
        "id": "W5u3oUiapf0F",
        "outputId": "622db782-0005-4b83-aa8f-30583539a18e"
      },
      "execution_count": 5,
      "outputs": [
        {
          "output_type": "stream",
          "name": "stdout",
          "text": [
            "(1, 2, 3, 4, 5, 6)\n"
          ]
        }
      ]
    },
    {
      "cell_type": "code",
      "source": [
        "# Eliminar la tupla completa\n",
        "# Aunque no puedes eliminar elementos individuales de una tupla, puedes eliminar la tupla completa.\n",
        "t = (1, 2, 3)\n",
        "del t  # Elimina la tupla completa"
      ],
      "metadata": {
        "id": "klUS_Kq_pjCN"
      },
      "execution_count": 6,
      "outputs": []
    }
  ]
}