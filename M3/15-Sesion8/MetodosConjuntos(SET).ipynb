{
  "nbformat": 4,
  "nbformat_minor": 0,
  "metadata": {
    "colab": {
      "provenance": []
    },
    "kernelspec": {
      "name": "python3",
      "display_name": "Python 3"
    },
    "language_info": {
      "name": "python"
    }
  },
  "cells": [
    {
      "cell_type": "markdown",
      "source": [
        "# **Métodos para Conjuntos (Sets)**"
      ],
      "metadata": {
        "id": "KBlWW3DpuMTO"
      }
    },
    {
      "cell_type": "code",
      "execution_count": 1,
      "metadata": {
        "id": "nK-aQwdtmGU5"
      },
      "outputs": [],
      "source": [
        "conjunto = {1, 2, 3, 4, 5}"
      ]
    },
    {
      "cell_type": "code",
      "source": [
        "# add(element): Agrega un elemento al conjunto.\n",
        "conjunto.add(6)\n",
        "print(f\"add: {conjunto}\")"
      ],
      "metadata": {
        "colab": {
          "base_uri": "https://localhost:8080/"
        },
        "id": "a95IS_V1uT-d",
        "outputId": "6632085d-003d-4180-f03e-5721d072c340"
      },
      "execution_count": 2,
      "outputs": [
        {
          "output_type": "stream",
          "name": "stdout",
          "text": [
            "add: {1, 2, 3, 4, 5, 6}\n"
          ]
        }
      ]
    },
    {
      "cell_type": "code",
      "source": [
        "# remove(element): Elimina el elemento del conjunto.\n",
        "conjunto.remove(6)\n",
        "print(f\"remove: {conjunto}\")"
      ],
      "metadata": {
        "colab": {
          "base_uri": "https://localhost:8080/"
        },
        "id": "FyaXxuoruWh9",
        "outputId": "1e836691-c331-4f12-fa01-27672e3d6618"
      },
      "execution_count": 3,
      "outputs": [
        {
          "output_type": "stream",
          "name": "stdout",
          "text": [
            "remove: {1, 2, 3, 4, 5}\n"
          ]
        }
      ]
    },
    {
      "cell_type": "code",
      "source": [
        "# discard(element): Elimina el elemento si está presente. No genera error si el elemento no existe.\n",
        "conjunto.discard(6)  # No existe, pero no genera error\n",
        "print(f\"discard: {conjunto}\")"
      ],
      "metadata": {
        "colab": {
          "base_uri": "https://localhost:8080/"
        },
        "id": "f8Yj87vkua9V",
        "outputId": "e907477c-e5d8-43b1-91a5-77ee54775e16"
      },
      "execution_count": 4,
      "outputs": [
        {
          "output_type": "stream",
          "name": "stdout",
          "text": [
            "discard: {1, 2, 3, 4, 5}\n"
          ]
        }
      ]
    },
    {
      "cell_type": "code",
      "source": [
        "# pop(): Elimina y devuelve un elemento aleatorio del conjunto.\n",
        "elemento_eliminado = conjunto.pop()\n",
        "print(f\"pop: {elemento_eliminado}, conjunto después de pop: {conjunto}\")"
      ],
      "metadata": {
        "colab": {
          "base_uri": "https://localhost:8080/"
        },
        "id": "HvzsH37sueS-",
        "outputId": "2f87dd6d-b306-47a8-c32f-eb9e3a14a0fa"
      },
      "execution_count": 5,
      "outputs": [
        {
          "output_type": "stream",
          "name": "stdout",
          "text": [
            "pop: 1, conjunto después de pop: {2, 3, 4, 5}\n"
          ]
        }
      ]
    },
    {
      "cell_type": "code",
      "source": [
        "# clear(): Elimina todos los elementos del conjunto.\n",
        "conjunto.clear()\n",
        "print(f\"clear: {conjunto}\")"
      ],
      "metadata": {
        "colab": {
          "base_uri": "https://localhost:8080/"
        },
        "id": "PTMkhWo3uiXO",
        "outputId": "72b17e7e-659e-4d63-fb67-48d5a1d61e4a"
      },
      "execution_count": 6,
      "outputs": [
        {
          "output_type": "stream",
          "name": "stdout",
          "text": [
            "clear: set()\n"
          ]
        }
      ]
    },
    {
      "cell_type": "code",
      "source": [
        "conjunto1 = {1, 2, 3}\n",
        "conjunto2 = {3, 4, 5}"
      ],
      "metadata": {
        "id": "lc7-85e4uobd"
      },
      "execution_count": 7,
      "outputs": []
    },
    {
      "cell_type": "code",
      "source": [
        "# union(set): Devuelve un nuevo conjunto con los elementos del conjunto original y otro conjunto.\n",
        "print(f\"union: {conjunto1.union(conjunto2)}\")"
      ],
      "metadata": {
        "colab": {
          "base_uri": "https://localhost:8080/"
        },
        "id": "gFfQGIjQumD9",
        "outputId": "07d2f6b6-85db-46a8-a3a0-48992e223f24"
      },
      "execution_count": 8,
      "outputs": [
        {
          "output_type": "stream",
          "name": "stdout",
          "text": [
            "union: {1, 2, 3, 4, 5}\n"
          ]
        }
      ]
    },
    {
      "cell_type": "code",
      "source": [
        "# intersection(set): Devuelve un nuevo conjunto con los elementos comunes entre los dos conjuntos.\n",
        "print(f\"intersection: {conjunto1.intersection(conjunto2)}\")"
      ],
      "metadata": {
        "colab": {
          "base_uri": "https://localhost:8080/"
        },
        "id": "YG7hMaubuwGf",
        "outputId": "408b0e52-ceaa-4e94-89b7-4cdab6ddde47"
      },
      "execution_count": 9,
      "outputs": [
        {
          "output_type": "stream",
          "name": "stdout",
          "text": [
            "intersection: {3}\n"
          ]
        }
      ]
    },
    {
      "cell_type": "code",
      "source": [
        "# difference(set): Devuelve un nuevo conjunto con los elementos que están en el primer conjunto pero no en el segundo.\n",
        "print(f\"difference: {conjunto1.difference(conjunto2)}\")"
      ],
      "metadata": {
        "colab": {
          "base_uri": "https://localhost:8080/"
        },
        "id": "SBtpUDdWu1qG",
        "outputId": "b0577d23-a56e-4cb4-cbe4-0c3cb855993a"
      },
      "execution_count": 10,
      "outputs": [
        {
          "output_type": "stream",
          "name": "stdout",
          "text": [
            "difference: {1, 2}\n"
          ]
        }
      ]
    },
    {
      "cell_type": "code",
      "source": [
        "# difference(set): Devuelve un nuevo conjunto con los elementos que están en el primer conjunto pero no en el segundo.\n",
        "print(f\"difference: {conjunto2.difference(conjunto1)}\")"
      ],
      "metadata": {
        "colab": {
          "base_uri": "https://localhost:8080/"
        },
        "id": "70dXrCj0u3kF",
        "outputId": "b6809595-3cd3-4c43-ebc6-cbc3cdfd9d70"
      },
      "execution_count": 11,
      "outputs": [
        {
          "output_type": "stream",
          "name": "stdout",
          "text": [
            "difference: {4, 5}\n"
          ]
        }
      ]
    },
    {
      "cell_type": "code",
      "source": [
        "# symmetric_difference(set): Devuelve un nuevo conjunto con los elementos que están en cualquiera de los conjuntos pero no en ambos.\n",
        "print(f\"symmetric_difference: {conjunto1.symmetric_difference(conjunto2)}\")"
      ],
      "metadata": {
        "colab": {
          "base_uri": "https://localhost:8080/"
        },
        "id": "A7aDNwh-u8al",
        "outputId": "1e5c4a09-2f8a-423d-ffbf-191560c72dfc"
      },
      "execution_count": 12,
      "outputs": [
        {
          "output_type": "stream",
          "name": "stdout",
          "text": [
            "symmetric_difference: {1, 2, 4, 5}\n"
          ]
        }
      ]
    },
    {
      "cell_type": "code",
      "source": [
        "# update(set): Actualiza el conjunto original agregando elementos de otro conjunto.\n",
        "print(conjunto1)\n",
        "print(conjunto2)\n",
        "conjunto1.update(conjunto2)\n",
        "print(f\"update: {conjunto1}\")"
      ],
      "metadata": {
        "colab": {
          "base_uri": "https://localhost:8080/"
        },
        "id": "ofsDztJgvASW",
        "outputId": "79e1f0ea-1a36-41df-9e63-07de22aba13f"
      },
      "execution_count": 13,
      "outputs": [
        {
          "output_type": "stream",
          "name": "stdout",
          "text": [
            "{1, 2, 3}\n",
            "{3, 4, 5}\n",
            "update: {1, 2, 3, 4, 5}\n"
          ]
        }
      ]
    },
    {
      "cell_type": "code",
      "source": [
        "conjunto1 = {1, 2, 3}\n",
        "conjunto2 = {4, 5, 6}\n",
        "print(type(conjunto1))"
      ],
      "metadata": {
        "colab": {
          "base_uri": "https://localhost:8080/"
        },
        "id": "M66jHwQRvJG1",
        "outputId": "45d4022e-9c3a-4ba4-dd5e-ef435fc370e9"
      },
      "execution_count": 14,
      "outputs": [
        {
          "output_type": "stream",
          "name": "stdout",
          "text": [
            "<class 'set'>\n"
          ]
        }
      ]
    },
    {
      "cell_type": "code",
      "source": [
        "# issubset(set): Devuelve True si el conjunto es un subconjunto del conjunto set.\n",
        "print(f\"issubset: {conjunto1.issubset(conjunto2)}\")"
      ],
      "metadata": {
        "colab": {
          "base_uri": "https://localhost:8080/"
        },
        "id": "p6O1Ol3EvMeV",
        "outputId": "b9bb2eaf-abfb-4886-b966-d20cd8adea9b"
      },
      "execution_count": 15,
      "outputs": [
        {
          "output_type": "stream",
          "name": "stdout",
          "text": [
            "issubset: False\n"
          ]
        }
      ]
    },
    {
      "cell_type": "code",
      "source": [
        "# issuperset(set): Devuelve True si el conjunto es un superconjunto del conjunto set.\n",
        "print(f\"issuperset: {conjunto2.issuperset(conjunto1)}\")"
      ],
      "metadata": {
        "colab": {
          "base_uri": "https://localhost:8080/"
        },
        "id": "bvhLITKvvQI2",
        "outputId": "3860cfc7-2ff4-4b73-8972-f6b329533104"
      },
      "execution_count": 16,
      "outputs": [
        {
          "output_type": "stream",
          "name": "stdout",
          "text": [
            "issuperset: False\n"
          ]
        }
      ]
    },
    {
      "cell_type": "code",
      "source": [
        "# isdisjoint(set): Devuelve True si no hay elementos comunes entre los conjuntos.\n",
        "print(f\"isdisjoint: {conjunto1.isdisjoint(conjunto2)}\")"
      ],
      "metadata": {
        "colab": {
          "base_uri": "https://localhost:8080/"
        },
        "id": "VsbswzbbvVNu",
        "outputId": "9510868b-2524-4f06-a18c-a85b1e62ecc9"
      },
      "execution_count": 17,
      "outputs": [
        {
          "output_type": "stream",
          "name": "stdout",
          "text": [
            "isdisjoint: True\n"
          ]
        }
      ]
    },
    {
      "cell_type": "code",
      "source": [
        "conjunto1 = {1, 2, 3}\n",
        "conjunto2 = {1, 2, 3}"
      ],
      "metadata": {
        "id": "ZiZGFDCxvZje"
      },
      "execution_count": 19,
      "outputs": []
    },
    {
      "cell_type": "code",
      "source": [
        "# issubset(set): Devuelve True si el conjunto es un subconjunto del conjunto set.\n",
        "print(f\"issubset: {conjunto1.issubset(conjunto2)}\")"
      ],
      "metadata": {
        "colab": {
          "base_uri": "https://localhost:8080/"
        },
        "id": "tOu083mLvb1N",
        "outputId": "6e4bc12a-05bb-48b5-d782-c3afca2934b3"
      },
      "execution_count": 20,
      "outputs": [
        {
          "output_type": "stream",
          "name": "stdout",
          "text": [
            "issubset: True\n"
          ]
        }
      ]
    },
    {
      "cell_type": "code",
      "source": [
        "# issuperset(set): Devuelve True si el conjunto es un superconjunto del conjunto set.\n",
        "print(f\"issuperset: {conjunto2.issuperset(conjunto1)}\")"
      ],
      "metadata": {
        "colab": {
          "base_uri": "https://localhost:8080/"
        },
        "id": "BTDkyxgGvgxW",
        "outputId": "716e7a2c-c584-4edf-c108-8ecaadbcbe62"
      },
      "execution_count": 21,
      "outputs": [
        {
          "output_type": "stream",
          "name": "stdout",
          "text": [
            "issuperset: True\n"
          ]
        }
      ]
    },
    {
      "cell_type": "code",
      "source": [
        "# isdisjoint(set): Devuelve True si no hay elementos comunes entre los conjuntos.\n",
        "print(f\"isdisjoint: {conjunto1.isdisjoint(conjunto2)}\")"
      ],
      "metadata": {
        "colab": {
          "base_uri": "https://localhost:8080/"
        },
        "id": "BemzRCJMviw3",
        "outputId": "eb3916c1-d495-4ed9-dd32-86933322a0f6"
      },
      "execution_count": 22,
      "outputs": [
        {
          "output_type": "stream",
          "name": "stdout",
          "text": [
            "isdisjoint: False\n"
          ]
        }
      ]
    }
  ]
}