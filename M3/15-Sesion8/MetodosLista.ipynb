{
  "nbformat": 4,
  "nbformat_minor": 0,
  "metadata": {
    "colab": {
      "provenance": []
    },
    "kernelspec": {
      "name": "python3",
      "display_name": "Python 3"
    },
    "language_info": {
      "name": "python"
    }
  },
  "cells": [
    {
      "cell_type": "markdown",
      "source": [
        "# **Metodos para Listas**"
      ],
      "metadata": {
        "id": "gY6Wyc0CyCkQ"
      }
    },
    {
      "cell_type": "code",
      "execution_count": 1,
      "metadata": {
        "colab": {
          "base_uri": "https://localhost:8080/"
        },
        "id": "jnUM-dyfx7tf",
        "outputId": "12316271-2580-402e-eee0-b01f31f76eae"
      },
      "outputs": [
        {
          "output_type": "stream",
          "name": "stdout",
          "text": [
            "original: [1, 2, 3, 4, 5]\n",
            "copy: [1, 2, 3, 4, 5]\n"
          ]
        }
      ],
      "source": [
        "# Index  0, 1, 2, 3, 4\n",
        "lista = [1, 2, 3, 4, 5]\n",
        "lista_copia = lista.copy()\n",
        "print(f\"original: {lista}\")\n",
        "print(f\"copy: {lista_copia}\")"
      ]
    },
    {
      "cell_type": "code",
      "source": [
        "# append(element): Agrega un elemento al final de la lista.\n",
        "lista_copia.append(6)\n",
        "print(f\"original: {lista}\")\n",
        "print(f\"copy: {lista_copia}\")"
      ],
      "metadata": {
        "colab": {
          "base_uri": "https://localhost:8080/"
        },
        "id": "DhJQErNdyW4v",
        "outputId": "5ffd15a8-b5d6-488c-e31e-e1d061012259"
      },
      "execution_count": 2,
      "outputs": [
        {
          "output_type": "stream",
          "name": "stdout",
          "text": [
            "original: [1, 2, 3, 4, 5]\n",
            "copy: [1, 2, 3, 4, 5, 6]\n"
          ]
        }
      ]
    },
    {
      "cell_type": "code",
      "source": [
        "# insert(index, element): Inserta un elemento en la posición indicada.\n",
        "lista_copia.insert(1, 'nuevo')\n",
        "print(f\"original: {lista}\")\n",
        "print(f\"copy: {lista_copia}\")"
      ],
      "metadata": {
        "colab": {
          "base_uri": "https://localhost:8080/"
        },
        "id": "8LWZdL82ykBP",
        "outputId": "173d9248-057b-440b-d318-5b41ad0a75ec"
      },
      "execution_count": 3,
      "outputs": [
        {
          "output_type": "stream",
          "name": "stdout",
          "text": [
            "original: [1, 2, 3, 4, 5]\n",
            "copy: [1, 'nuevo', 2, 3, 4, 5, 6]\n"
          ]
        }
      ]
    },
    {
      "cell_type": "code",
      "source": [
        "# remove(element): Elimina la primera aparición del elemento en la lista.\n",
        "# acceder al elemento\n",
        "lista_copia.remove('nuevo')\n",
        "print(f\"original: {lista}\")\n",
        "print(f\"copy: {lista_copia}\")"
      ],
      "metadata": {
        "colab": {
          "base_uri": "https://localhost:8080/"
        },
        "id": "oAHoXtEZyvTo",
        "outputId": "397e1122-b8e7-44fb-f4ee-72b5dca910d9"
      },
      "execution_count": 4,
      "outputs": [
        {
          "output_type": "stream",
          "name": "stdout",
          "text": [
            "original: [1, 2, 3, 4, 5]\n",
            "copy: [1, 2, 3, 4, 5, 6]\n"
          ]
        }
      ]
    },
    {
      "cell_type": "code",
      "source": [
        "# pop([index]): Elimina y devuelve el elemento en la posición especificada.\n",
        "# acceder al index\n",
        "lista_copia.pop(5)\n",
        "print(f\"original: {lista}\")\n",
        "print(f\"copy: {lista_copia}\")"
      ],
      "metadata": {
        "colab": {
          "base_uri": "https://localhost:8080/"
        },
        "id": "4n1e6hhwy4l_",
        "outputId": "35123ef9-3825-48c9-e7ca-3ca78cdde978"
      },
      "execution_count": 5,
      "outputs": [
        {
          "output_type": "stream",
          "name": "stdout",
          "text": [
            "original: [1, 2, 3, 4, 5]\n",
            "copy: [1, 2, 3, 4, 5]\n"
          ]
        }
      ]
    },
    {
      "cell_type": "code",
      "source": [
        "# clear(): Elimina todos los elementos de la lista.\n",
        "lista_copia.clear()\n",
        "print(f\"original: {lista}\")\n",
        "print(f\"copy: {lista_copia}\")"
      ],
      "metadata": {
        "colab": {
          "base_uri": "https://localhost:8080/"
        },
        "id": "ZfAIdoOizCp_",
        "outputId": "5af354a6-bd8d-4f28-a52c-84bcc7f6c69a"
      },
      "execution_count": 6,
      "outputs": [
        {
          "output_type": "stream",
          "name": "stdout",
          "text": [
            "original: [1, 2, 3, 4, 5]\n",
            "copy: []\n"
          ]
        }
      ]
    },
    {
      "cell_type": "code",
      "source": [
        "# reverse(): Invierte el orden de los elementos en la lista.\n",
        "lista_copia = [1, 2, 3, 4, 5]\n",
        "lista_copia.reverse()\n",
        "print(f\"original: {lista}\")\n",
        "print(f\"copy: {lista_copia}\")"
      ],
      "metadata": {
        "colab": {
          "base_uri": "https://localhost:8080/"
        },
        "id": "wept1prdzJon",
        "outputId": "f9a5ad44-514d-414b-c457-02ae4fb72791"
      },
      "execution_count": 7,
      "outputs": [
        {
          "output_type": "stream",
          "name": "stdout",
          "text": [
            "original: [1, 2, 3, 4, 5]\n",
            "copy: [5, 4, 3, 2, 1]\n"
          ]
        }
      ]
    },
    {
      "cell_type": "code",
      "source": [
        "# extend(iterable): Extiende la lista agregando todos los elementos de un iterable.\n",
        "lista_copia.extend([7, 8, 9])\n",
        "print(f\"original: {lista}\")\n",
        "print(f\"copy: {lista_copia}\")"
      ],
      "metadata": {
        "colab": {
          "base_uri": "https://localhost:8080/"
        },
        "id": "SJdSxn5yzfmw",
        "outputId": "8568ea35-8863-4173-e9f4-27eeab20875a"
      },
      "execution_count": 8,
      "outputs": [
        {
          "output_type": "stream",
          "name": "stdout",
          "text": [
            "original: [1, 2, 3, 4, 5]\n",
            "copy: [5, 4, 3, 2, 1, 7, 8, 9]\n"
          ]
        }
      ]
    },
    {
      "cell_type": "code",
      "source": [
        "# index(element): Devuelve el índice del primer elemento cuyo valor sea igual a element.\n",
        "print(f\"index(4) Original: {lista.index(4)}\")\n",
        "print(f\"index(4) Copia: {lista_copia.index(4)}\")\n",
        "\n",
        "# count(element): Devuelve el número de veces que element aparece en la lista.\n",
        "print(f\"count(4) Original: {lista.count(4)}\")\n",
        "print(f\"count(4) Copia: {lista_copia.count(4)}\")\n",
        "\n",
        "print(f\"original: {lista}\")\n",
        "print(f\"copy: {lista_copia}\")"
      ],
      "metadata": {
        "colab": {
          "base_uri": "https://localhost:8080/"
        },
        "id": "LJkaoVxZzo-I",
        "outputId": "67c876ff-cfd2-440d-d93b-f2278784ff40"
      },
      "execution_count": 9,
      "outputs": [
        {
          "output_type": "stream",
          "name": "stdout",
          "text": [
            "index(4) Original: 3\n",
            "index(4) Copia: 1\n",
            "count(4) Original: 1\n",
            "count(4) Copia: 1\n",
            "original: [1, 2, 3, 4, 5]\n",
            "copy: [5, 4, 3, 2, 1, 7, 8, 9]\n"
          ]
        }
      ]
    },
    {
      "cell_type": "code",
      "source": [
        "# sort([key, reverse]): Ordena la lista de forma ascendente. Puedes pasar una función key y/o usar reverse=True para ordenar en orden descendente.\n",
        "lista_copia.sort(reverse=False)\n",
        "print(f\"original: {lista}\")\n",
        "print(f\"copy: {lista_copia}\")"
      ],
      "metadata": {
        "colab": {
          "base_uri": "https://localhost:8080/"
        },
        "id": "6bnpATa30O0I",
        "outputId": "833b1427-e2b6-4a92-8612-dc028ff38ead"
      },
      "execution_count": 10,
      "outputs": [
        {
          "output_type": "stream",
          "name": "stdout",
          "text": [
            "original: [1, 2, 3, 4, 5]\n",
            "copy: [1, 2, 3, 4, 5, 7, 8, 9]\n"
          ]
        }
      ]
    },
    {
      "cell_type": "code",
      "source": [
        "# sort([key, reverse]): Ordena la lista de forma ascendente. Puedes pasar una función key y/o usar reverse=True para ordenar en orden descendente.\n",
        "lista_copia.sort(reverse=True)\n",
        "print(f\"original: {lista}\")\n",
        "print(f\"copy: {lista_copia}\")"
      ],
      "metadata": {
        "colab": {
          "base_uri": "https://localhost:8080/"
        },
        "id": "2Uk7IlNL0ecw",
        "outputId": "d8fd4d07-3f85-4981-bea9-5cb186c1cea9"
      },
      "execution_count": 11,
      "outputs": [
        {
          "output_type": "stream",
          "name": "stdout",
          "text": [
            "original: [1, 2, 3, 4, 5]\n",
            "copy: [9, 8, 7, 5, 4, 3, 2, 1]\n"
          ]
        }
      ]
    }
  ]
}