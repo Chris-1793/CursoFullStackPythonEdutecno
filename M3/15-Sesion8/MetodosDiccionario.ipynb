{
  "nbformat": 4,
  "nbformat_minor": 0,
  "metadata": {
    "colab": {
      "provenance": []
    },
    "kernelspec": {
      "name": "python3",
      "display_name": "Python 3"
    },
    "language_info": {
      "name": "python"
    }
  },
  "cells": [
    {
      "cell_type": "markdown",
      "source": [
        "# **Métodos para Diccionarios**"
      ],
      "metadata": {
        "id": "BOUcyZ-9dqBn"
      }
    },
    {
      "cell_type": "code",
      "source": [
        "# Métodos para Diccionarios\n",
        "# Keys = K // Values = V\n",
        "#               K   V   K   V   K   V\n",
        "# Hello = Hola  //  Hola = Hello\n",
        "diccionario = {'a': 1, 'b': 2, 'c': 3}\n",
        "print(f\"diccionario: {diccionario}\")"
      ],
      "metadata": {
        "colab": {
          "base_uri": "https://localhost:8080/"
        },
        "id": "NvCcAtWCvvxv",
        "outputId": "466d3154-86f7-4848-d8cb-2fb5c0341011"
      },
      "execution_count": 85,
      "outputs": [
        {
          "output_type": "stream",
          "name": "stdout",
          "text": [
            "diccionario: {'a': 1, 'b': 2, 'c': 3}\n"
          ]
        }
      ]
    },
    {
      "cell_type": "code",
      "source": [
        "# get(key, [valor]): Devuelve el valor de una clave.\n",
        "diccionario1 = {'Nombre': 'Juan', 'Apellido': 'Perez', 'edad': 3}\n",
        "print(f\"Valor = {diccionario1.get('Nombre')}\")"
      ],
      "metadata": {
        "colab": {
          "base_uri": "https://localhost:8080/"
        },
        "id": "VDzNa58fwpMo",
        "outputId": "ad9bf45b-8c49-4d23-9879-1c34a8bcab2f"
      },
      "execution_count": 60,
      "outputs": [
        {
          "output_type": "stream",
          "name": "stdout",
          "text": [
            "Valor = Juan\n"
          ]
        }
      ]
    },
    {
      "cell_type": "code",
      "source": [
        "# keys(): Devuelve una vista de todas las claves del diccionario.\n",
        "print(f\"keys: {diccionario.keys()}\")\n",
        "print(f\"keys: {diccionario1.keys()}\")"
      ],
      "metadata": {
        "colab": {
          "base_uri": "https://localhost:8080/"
        },
        "id": "aDDe8f7WxrRA",
        "outputId": "de7ff71f-137f-457a-bab9-068f1fed040a"
      },
      "execution_count": 58,
      "outputs": [
        {
          "output_type": "stream",
          "name": "stdout",
          "text": [
            "keys: dict_keys(['a', 'b', 'c'])\n",
            "keys: dict_keys(['Nombre', 'Apellido', 'edad'])\n"
          ]
        }
      ]
    },
    {
      "cell_type": "code",
      "source": [
        "# values(): Devuelve una vista de todos los valores del diccionario.\n",
        "print(f\"values: {diccionario.values()}\")\n",
        "print(f\"values: {diccionario1.values()}\")"
      ],
      "metadata": {
        "colab": {
          "base_uri": "https://localhost:8080/"
        },
        "id": "EOnekBDByLhZ",
        "outputId": "629592eb-2764-47b7-8455-124daca67de4"
      },
      "execution_count": 61,
      "outputs": [
        {
          "output_type": "stream",
          "name": "stdout",
          "text": [
            "values: dict_values([1, 2, 3])\n",
            "values: dict_values(['Juan', 'Perez', 3])\n"
          ]
        }
      ]
    },
    {
      "cell_type": "code",
      "source": [
        "# items(): Devuelve una vista de todos los pares clave-valor del diccionario.\n",
        "print(f\"items: {diccionario.items()}\")\n",
        "print(f\"items: {diccionario1.items()}\")"
      ],
      "metadata": {
        "colab": {
          "base_uri": "https://localhost:8080/"
        },
        "id": "nESzWE_-yUte",
        "outputId": "54b4596b-56de-4067-8a75-9b723d6afcd2"
      },
      "execution_count": 63,
      "outputs": [
        {
          "output_type": "stream",
          "name": "stdout",
          "text": [
            "items: dict_items([('a', 1), ('b', 2), ('c', 3)])\n",
            "items: dict_items([('Nombre', 'Juan'), ('Apellido', 'Perez'), ('edad', 3)])\n"
          ]
        }
      ]
    },
    {
      "cell_type": "code",
      "source": [
        "# pop(key, [default]): Elimina la clave especificada y devuelve su valor.\n",
        "valor_eliminado = diccionario.pop('b')\n",
        "print(f\"pop('b'): {valor_eliminado}, diccionario después de pop: {diccionario}\")"
      ],
      "metadata": {
        "colab": {
          "base_uri": "https://localhost:8080/"
        },
        "id": "PA-vJCDwykSQ",
        "outputId": "7a6ea02b-d7a8-4ccc-c278-73d8be255ba3"
      },
      "execution_count": 74,
      "outputs": [
        {
          "output_type": "stream",
          "name": "stdout",
          "text": [
            "pop('b'): 2, diccionario después de pop: {'a': 1, 'c': 3}\n"
          ]
        }
      ]
    },
    {
      "cell_type": "code",
      "source": [
        "# popitem(): Elimina y devuelve el último par clave-valor añadido.\n",
        "print(f\"diccionario: {diccionario}\")\n",
        "clave_valor_eliminado = diccionario.popitem()\n",
        "print(f\"popitem: {clave_valor_eliminado}, diccionario después de popitem: {diccionario}\")"
      ],
      "metadata": {
        "colab": {
          "base_uri": "https://localhost:8080/"
        },
        "id": "VwRZYgANy8bQ",
        "outputId": "4b033022-1687-4198-f1d0-45b6d980a54d"
      },
      "execution_count": 75,
      "outputs": [
        {
          "output_type": "stream",
          "name": "stdout",
          "text": [
            "diccionario: {'a': 1, 'c': 3}\n",
            "popitem: ('c', 3), diccionario después de popitem: {'a': 1}\n"
          ]
        }
      ]
    },
    {
      "cell_type": "code",
      "source": [
        "print(f\"diccionario: {diccionario}\")"
      ],
      "metadata": {
        "colab": {
          "base_uri": "https://localhost:8080/"
        },
        "id": "yVQ-4eGjzFYX",
        "outputId": "2782d6f2-13d4-4fb6-ed9f-371950cbfd1b"
      },
      "execution_count": 76,
      "outputs": [
        {
          "output_type": "stream",
          "name": "stdout",
          "text": [
            "diccionario: {'a': 1}\n"
          ]
        }
      ]
    },
    {
      "cell_type": "code",
      "source": [
        "# clear(): Elimina todos los elementos del diccionario.\n",
        "diccionario.clear()\n",
        "print(f\"clear: {diccionario}\")"
      ],
      "metadata": {
        "colab": {
          "base_uri": "https://localhost:8080/"
        },
        "id": "nvxfSoiDzjv3",
        "outputId": "daec7092-5bdb-472e-8027-f8317bd1f3ae"
      },
      "execution_count": 86,
      "outputs": [
        {
          "output_type": "stream",
          "name": "stdout",
          "text": [
            "clear: {}\n"
          ]
        }
      ]
    },
    {
      "cell_type": "code",
      "source": [
        "# update(dict): Actualiza el diccionario con los pares clave-valor de otro diccionario.\n",
        "diccionario.update({'x': 10, 'y': 20})\n",
        "print(f\"update: {diccionario}\")"
      ],
      "metadata": {
        "colab": {
          "base_uri": "https://localhost:8080/"
        },
        "id": "QAFUaoJUznfW",
        "outputId": "3e227213-b03d-49b9-daba-4029612b2fa4"
      },
      "execution_count": 87,
      "outputs": [
        {
          "output_type": "stream",
          "name": "stdout",
          "text": [
            "update: {'x': 10, 'y': 20}\n"
          ]
        }
      ]
    },
    {
      "cell_type": "code",
      "source": [
        "diccionario.update({'w': 40})\n",
        "print(f\"update: {diccionario}\")"
      ],
      "metadata": {
        "colab": {
          "base_uri": "https://localhost:8080/"
        },
        "id": "wIo3objdzzMe",
        "outputId": "974e5ee9-b04a-4fe3-bb9b-4e929c0211a2"
      },
      "execution_count": 88,
      "outputs": [
        {
          "output_type": "stream",
          "name": "stdout",
          "text": [
            "update: {'x': 10, 'y': 20, 'w': 40}\n"
          ]
        }
      ]
    },
    {
      "cell_type": "code",
      "source": [
        "# setdefault(key, [default]): Devuelve el valor de la clave si existe. Si no, la inserta con el valor default.\n",
        "valor_default = diccionario.setdefault('z', 40)\n",
        "print(f\"setdefault('z', 40): {valor_default}, diccionario: {diccionario}\")"
      ],
      "metadata": {
        "colab": {
          "base_uri": "https://localhost:8080/"
        },
        "id": "0tjfKZfpz8gZ",
        "outputId": "a55f5bae-3922-4e8d-a70d-851019e0c119"
      },
      "execution_count": 89,
      "outputs": [
        {
          "output_type": "stream",
          "name": "stdout",
          "text": [
            "setdefault('z', 40): 40, diccionario: {'x': 10, 'y': 20, 'w': 40, 'z': 40}\n"
          ]
        }
      ]
    },
    {
      "cell_type": "code",
      "source": [
        "# copy(): Devuelve una copia superficial del diccionario.\n",
        "diccionario_copia = diccionario.copy()\n",
        "print(f\"copy: {diccionario_copia}\")"
      ],
      "metadata": {
        "colab": {
          "base_uri": "https://localhost:8080/"
        },
        "id": "sY6hEBnO0nvR",
        "outputId": "c040584a-3916-4e54-994f-3fae4e8ddc52"
      },
      "execution_count": 90,
      "outputs": [
        {
          "output_type": "stream",
          "name": "stdout",
          "text": [
            "copy: {'x': 10, 'y': 20, 'w': 40, 'z': 40}\n"
          ]
        }
      ]
    },
    {
      "cell_type": "code",
      "source": [
        "# fromkeys(iterable, value): Crea un nuevo diccionario con claves del iterable y valores establecidos en value.\n",
        "nuevo_diccionario = dict.fromkeys(['k', 'l', 'm'], 100)\n",
        "print(f\"fromkeys: {nuevo_diccionario}\")"
      ],
      "metadata": {
        "colab": {
          "base_uri": "https://localhost:8080/"
        },
        "id": "SSLjjuIq0tZ_",
        "outputId": "3f7ba834-097d-4237-dd3d-2496ef37c3f3"
      },
      "execution_count": 91,
      "outputs": [
        {
          "output_type": "stream",
          "name": "stdout",
          "text": [
            "fromkeys: {'k': 100, 'l': 100, 'm': 100}\n"
          ]
        }
      ]
    }
  ]
}